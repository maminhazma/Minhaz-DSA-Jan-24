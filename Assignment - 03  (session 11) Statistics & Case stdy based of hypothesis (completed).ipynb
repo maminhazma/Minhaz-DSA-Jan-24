{
 "cells": [
  {
   "cell_type": "markdown",
   "id": "aabc6438",
   "metadata": {},
   "source": [
    "## Assignment on Statistics & Casestudy based on Hypothesis\n",
    "### Done by : Minhaz Abdul Majeed"
   ]
  },
  {
   "cell_type": "code",
   "execution_count": 3,
   "id": "070f6a6b",
   "metadata": {},
   "outputs": [],
   "source": [
    "# Question - Statistics Assignment\n",
    "# Data set - Students_Performance.csv"
   ]
  },
  {
   "cell_type": "code",
   "execution_count": 13,
   "id": "d0eb29f6",
   "metadata": {},
   "outputs": [],
   "source": [
    "import pandas as pd\n",
    "import numpy as np\n",
    "import seaborn as sns\n",
    "import matplotlib.pyplot as plt\n",
    "import statistics as stat\n",
    "from scipy.stats import ttest_ind\n",
    "from scipy.stats import chisquare\n",
    "from scipy.stats import chi2_contingency\n",
    "from scipy.stats import ttest_rel"
   ]
  },
  {
   "cell_type": "code",
   "execution_count": 2,
   "id": "2c7f5b14",
   "metadata": {},
   "outputs": [],
   "source": [
    "Students_data = pd.read_csv(r\"C:\\Minhaz Local files\\DSA\\DSA 02 2024\\Students_Performance.csv\")"
   ]
  },
  {
   "cell_type": "code",
   "execution_count": 47,
   "id": "96dd631e",
   "metadata": {},
   "outputs": [
    {
     "data": {
      "text/html": [
       "<div>\n",
       "<style scoped>\n",
       "    .dataframe tbody tr th:only-of-type {\n",
       "        vertical-align: middle;\n",
       "    }\n",
       "\n",
       "    .dataframe tbody tr th {\n",
       "        vertical-align: top;\n",
       "    }\n",
       "\n",
       "    .dataframe thead th {\n",
       "        text-align: right;\n",
       "    }\n",
       "</style>\n",
       "<table border=\"1\" class=\"dataframe\">\n",
       "  <thead>\n",
       "    <tr style=\"text-align: right;\">\n",
       "      <th></th>\n",
       "      <th>gender</th>\n",
       "      <th>race/ethnicity</th>\n",
       "      <th>parental level of education</th>\n",
       "      <th>lunch</th>\n",
       "      <th>test preparation course</th>\n",
       "      <th>math score</th>\n",
       "      <th>reading score</th>\n",
       "      <th>writing score</th>\n",
       "    </tr>\n",
       "  </thead>\n",
       "  <tbody>\n",
       "    <tr>\n",
       "      <th>0</th>\n",
       "      <td>female</td>\n",
       "      <td>group C</td>\n",
       "      <td>some high school</td>\n",
       "      <td>free/reduced</td>\n",
       "      <td>none</td>\n",
       "      <td>0</td>\n",
       "      <td>17</td>\n",
       "      <td>10</td>\n",
       "    </tr>\n",
       "    <tr>\n",
       "      <th>1</th>\n",
       "      <td>female</td>\n",
       "      <td>group B</td>\n",
       "      <td>high school</td>\n",
       "      <td>free/reduced</td>\n",
       "      <td>none</td>\n",
       "      <td>8</td>\n",
       "      <td>24</td>\n",
       "      <td>23</td>\n",
       "    </tr>\n",
       "    <tr>\n",
       "      <th>2</th>\n",
       "      <td>female</td>\n",
       "      <td>group B</td>\n",
       "      <td>some high school</td>\n",
       "      <td>free/reduced</td>\n",
       "      <td>none</td>\n",
       "      <td>18</td>\n",
       "      <td>32</td>\n",
       "      <td>28</td>\n",
       "    </tr>\n",
       "    <tr>\n",
       "      <th>3</th>\n",
       "      <td>female</td>\n",
       "      <td>group B</td>\n",
       "      <td>some college</td>\n",
       "      <td>standard</td>\n",
       "      <td>none</td>\n",
       "      <td>11</td>\n",
       "      <td>38</td>\n",
       "      <td>32</td>\n",
       "    </tr>\n",
       "    <tr>\n",
       "      <th>4</th>\n",
       "      <td>female</td>\n",
       "      <td>group C</td>\n",
       "      <td>some college</td>\n",
       "      <td>free/reduced</td>\n",
       "      <td>none</td>\n",
       "      <td>22</td>\n",
       "      <td>39</td>\n",
       "      <td>33</td>\n",
       "    </tr>\n",
       "    <tr>\n",
       "      <th>...</th>\n",
       "      <td>...</td>\n",
       "      <td>...</td>\n",
       "      <td>...</td>\n",
       "      <td>...</td>\n",
       "      <td>...</td>\n",
       "      <td>...</td>\n",
       "      <td>...</td>\n",
       "      <td>...</td>\n",
       "    </tr>\n",
       "    <tr>\n",
       "      <th>995</th>\n",
       "      <td>male</td>\n",
       "      <td>group E</td>\n",
       "      <td>some college</td>\n",
       "      <td>standard</td>\n",
       "      <td>completed</td>\n",
       "      <td>99</td>\n",
       "      <td>87</td>\n",
       "      <td>81</td>\n",
       "    </tr>\n",
       "    <tr>\n",
       "      <th>996</th>\n",
       "      <td>male</td>\n",
       "      <td>group A</td>\n",
       "      <td>some college</td>\n",
       "      <td>standard</td>\n",
       "      <td>completed</td>\n",
       "      <td>100</td>\n",
       "      <td>96</td>\n",
       "      <td>86</td>\n",
       "    </tr>\n",
       "    <tr>\n",
       "      <th>997</th>\n",
       "      <td>male</td>\n",
       "      <td>group D</td>\n",
       "      <td>some college</td>\n",
       "      <td>standard</td>\n",
       "      <td>completed</td>\n",
       "      <td>100</td>\n",
       "      <td>97</td>\n",
       "      <td>99</td>\n",
       "    </tr>\n",
       "    <tr>\n",
       "      <th>998</th>\n",
       "      <td>male</td>\n",
       "      <td>group E</td>\n",
       "      <td>associate's degree</td>\n",
       "      <td>free/reduced</td>\n",
       "      <td>completed</td>\n",
       "      <td>100</td>\n",
       "      <td>100</td>\n",
       "      <td>93</td>\n",
       "    </tr>\n",
       "    <tr>\n",
       "      <th>999</th>\n",
       "      <td>male</td>\n",
       "      <td>group E</td>\n",
       "      <td>bachelor's degree</td>\n",
       "      <td>standard</td>\n",
       "      <td>completed</td>\n",
       "      <td>100</td>\n",
       "      <td>100</td>\n",
       "      <td>100</td>\n",
       "    </tr>\n",
       "  </tbody>\n",
       "</table>\n",
       "<p>1000 rows × 8 columns</p>\n",
       "</div>"
      ],
      "text/plain": [
       "     gender race/ethnicity parental level of education         lunch  \\\n",
       "0    female        group C            some high school  free/reduced   \n",
       "1    female        group B                 high school  free/reduced   \n",
       "2    female        group B            some high school  free/reduced   \n",
       "3    female        group B                some college      standard   \n",
       "4    female        group C                some college  free/reduced   \n",
       "..      ...            ...                         ...           ...   \n",
       "995    male        group E                some college      standard   \n",
       "996    male        group A                some college      standard   \n",
       "997    male        group D                some college      standard   \n",
       "998    male        group E          associate's degree  free/reduced   \n",
       "999    male        group E           bachelor's degree      standard   \n",
       "\n",
       "    test preparation course  math score  reading score  writing score  \n",
       "0                      none           0             17             10  \n",
       "1                      none           8             24             23  \n",
       "2                      none          18             32             28  \n",
       "3                      none          11             38             32  \n",
       "4                      none          22             39             33  \n",
       "..                      ...         ...            ...            ...  \n",
       "995               completed          99             87             81  \n",
       "996               completed         100             96             86  \n",
       "997               completed         100             97             99  \n",
       "998               completed         100            100             93  \n",
       "999               completed         100            100            100  \n",
       "\n",
       "[1000 rows x 8 columns]"
      ]
     },
     "execution_count": 47,
     "metadata": {},
     "output_type": "execute_result"
    }
   ],
   "source": [
    "Students_data # to print the data\n",
    "## Students_data.info() - to display the data information, like column name, missing values, data type of each column etc.\n",
    "## Students_data.shape - to show the column and row structure\n",
    "## Students_data.columns - to show full column name in the data\n",
    "## Students_data.head() / .tail() - to show the first/last five rows in the data"
   ]
  },
  {
   "cell_type": "code",
   "execution_count": 8,
   "id": "78ee3bdb",
   "metadata": {},
   "outputs": [
    {
     "data": {
      "text/html": [
       "<div>\n",
       "<style scoped>\n",
       "    .dataframe tbody tr th:only-of-type {\n",
       "        vertical-align: middle;\n",
       "    }\n",
       "\n",
       "    .dataframe tbody tr th {\n",
       "        vertical-align: top;\n",
       "    }\n",
       "\n",
       "    .dataframe thead th {\n",
       "        text-align: right;\n",
       "    }\n",
       "</style>\n",
       "<table border=\"1\" class=\"dataframe\">\n",
       "  <thead>\n",
       "    <tr style=\"text-align: right;\">\n",
       "      <th></th>\n",
       "      <th>math score</th>\n",
       "      <th>reading score</th>\n",
       "      <th>writing score</th>\n",
       "    </tr>\n",
       "  </thead>\n",
       "  <tbody>\n",
       "    <tr>\n",
       "      <th>count</th>\n",
       "      <td>1000.000000</td>\n",
       "      <td>1000.000000</td>\n",
       "      <td>1000.000000</td>\n",
       "    </tr>\n",
       "    <tr>\n",
       "      <th>mean</th>\n",
       "      <td>66.001000</td>\n",
       "      <td>69.195000</td>\n",
       "      <td>68.119000</td>\n",
       "    </tr>\n",
       "    <tr>\n",
       "      <th>std</th>\n",
       "      <td>15.569567</td>\n",
       "      <td>14.706436</td>\n",
       "      <td>15.226381</td>\n",
       "    </tr>\n",
       "    <tr>\n",
       "      <th>min</th>\n",
       "      <td>0.000000</td>\n",
       "      <td>17.000000</td>\n",
       "      <td>10.000000</td>\n",
       "    </tr>\n",
       "    <tr>\n",
       "      <th>25%</th>\n",
       "      <td>57.000000</td>\n",
       "      <td>59.000000</td>\n",
       "      <td>58.000000</td>\n",
       "    </tr>\n",
       "    <tr>\n",
       "      <th>50%</th>\n",
       "      <td>66.000000</td>\n",
       "      <td>70.000000</td>\n",
       "      <td>69.000000</td>\n",
       "    </tr>\n",
       "    <tr>\n",
       "      <th>75%</th>\n",
       "      <td>77.000000</td>\n",
       "      <td>79.250000</td>\n",
       "      <td>79.000000</td>\n",
       "    </tr>\n",
       "    <tr>\n",
       "      <th>max</th>\n",
       "      <td>100.000000</td>\n",
       "      <td>100.000000</td>\n",
       "      <td>100.000000</td>\n",
       "    </tr>\n",
       "  </tbody>\n",
       "</table>\n",
       "</div>"
      ],
      "text/plain": [
       "        math score  reading score  writing score\n",
       "count  1000.000000    1000.000000    1000.000000\n",
       "mean     66.001000      69.195000      68.119000\n",
       "std      15.569567      14.706436      15.226381\n",
       "min       0.000000      17.000000      10.000000\n",
       "25%      57.000000      59.000000      58.000000\n",
       "50%      66.000000      70.000000      69.000000\n",
       "75%      77.000000      79.250000      79.000000\n",
       "max     100.000000     100.000000     100.000000"
      ]
     },
     "execution_count": 8,
     "metadata": {},
     "output_type": "execute_result"
    }
   ],
   "source": [
    "Students_data.describe()"
   ]
  },
  {
   "cell_type": "code",
   "execution_count": 54,
   "id": "a49fa590",
   "metadata": {},
   "outputs": [
    {
     "name": "stdout",
     "output_type": "stream",
     "text": [
      "Male count :  482\n",
      "Female count :  518\n"
     ]
    }
   ],
   "source": [
    "#Gender_list = Students_data['gender'].value_counts()\n",
    "#print (Gender_list)\n",
    "Gender_count = Students_data['gender'].value_counts()\n",
    "print(\"Male count : \", Gender_count['male'])\n",
    "print(\"Female count : \", Gender_count['female'])\n",
    "## to list the total number of participants as gender category"
   ]
  },
  {
   "cell_type": "code",
   "execution_count": 56,
   "id": "a78855d3",
   "metadata": {},
   "outputs": [
    {
     "name": "stdout",
     "output_type": "stream",
     "text": [
      "none         642\n",
      "completed    358\n",
      "Name: test preparation course, dtype: int64\n"
     ]
    }
   ],
   "source": [
    "members = Students_data['test preparation course'].value_counts()\n",
    "print (members)\n",
    "## to list completion status of total participants"
   ]
  },
  {
   "cell_type": "markdown",
   "id": "87ebc2a4",
   "metadata": {},
   "source": [
    "### a.Find out males and females attendeded in the test."
   ]
  },
  {
   "cell_type": "code",
   "execution_count": 35,
   "id": "9faf2524",
   "metadata": {},
   "outputs": [
    {
     "name": "stdout",
     "output_type": "stream",
     "text": [
      "Male attendees =  174\n",
      "Female attendees =  184\n"
     ]
    }
   ],
   "source": [
    "filter_male = Students_data[(Students_data['gender'] == 'male') & (Students_data['test preparation course'] == 'completed')]\n",
    "male_attendance = filter_male.shape[0]\n",
    "filter_female = Students_data[(Students_data['gender'] == 'female') & (Students_data['test preparation course'] == 'completed')]\n",
    "female_attendance = filter_female.shape[0]\n",
    "print (\"Male attendees = \", male_attendance)\n",
    "print (\"Female attendees = \", female_attendance)"
   ]
  },
  {
   "cell_type": "markdown",
   "id": "a2ba7d0a",
   "metadata": {},
   "source": [
    "### b.What do you think about the students' parental level of education?"
   ]
  },
  {
   "cell_type": "code",
   "execution_count": 36,
   "id": "c80e3b7a",
   "metadata": {},
   "outputs": [
    {
     "name": "stdout",
     "output_type": "stream",
     "text": [
      "some college          226\n",
      "associate's degree    222\n",
      "high school           196\n",
      "some high school      179\n",
      "bachelor's degree     118\n",
      "master's degree        59\n",
      "Name: parental level of education, dtype: int64\n"
     ]
    }
   ],
   "source": [
    "Level_of_education = Students_data['parental level of education'].value_counts()\n",
    "print (Level_of_education)"
   ]
  },
  {
   "cell_type": "markdown",
   "id": "0f8a73a2",
   "metadata": {},
   "source": [
    "### d. What do you think about the scoring variation for math, reading and writing based on"
   ]
  },
  {
   "cell_type": "markdown",
   "id": "75c0cddf",
   "metadata": {},
   "source": [
    "### i.Gender"
   ]
  },
  {
   "cell_type": "code",
   "execution_count": 61,
   "id": "4ea0c282",
   "metadata": {},
   "outputs": [],
   "source": [
    "scoring_variation_math = Students_data.groupby('gender')['math score'].mean()\n",
    "scoring_variation_reading = Students_data.groupby('gender')['reading score'].mean()\n",
    "scoring_variation_writing = Students_data.groupby('gender')['writing score'].mean()"
   ]
  },
  {
   "cell_type": "code",
   "execution_count": 62,
   "id": "4bd52947",
   "metadata": {},
   "outputs": [
    {
     "name": "stdout",
     "output_type": "stream",
     "text": [
      "Score variation for Maths against  gender\n",
      "female    63.376448\n",
      "male      68.821577\n",
      "Name: math score, dtype: float64\n"
     ]
    }
   ],
   "source": [
    "print (\"Score variation for Maths against \", scoring_variation_math)"
   ]
  },
  {
   "cell_type": "code",
   "execution_count": 58,
   "id": "2bc37863",
   "metadata": {},
   "outputs": [
    {
     "name": "stdout",
     "output_type": "stream",
     "text": [
      "Score variation for Reading against  gender\n",
      "female    72.590734\n",
      "male      65.545643\n",
      "Name: reading score, dtype: float64\n"
     ]
    }
   ],
   "source": [
    "print (\"Score variation for Reading against \", scoring_variation_reading)"
   ]
  },
  {
   "cell_type": "code",
   "execution_count": 59,
   "id": "72a13e05",
   "metadata": {},
   "outputs": [
    {
     "name": "stdout",
     "output_type": "stream",
     "text": [
      "Score variation for Writing against  gender\n",
      "female    72.467181\n",
      "male      63.446058\n",
      "Name: writing score, dtype: float64\n"
     ]
    }
   ],
   "source": [
    "print (\"Score variation for Writing against \", scoring_variation_writing)"
   ]
  },
  {
   "cell_type": "markdown",
   "id": "e87a5e64",
   "metadata": {},
   "source": [
    "### ii. Test preparation course"
   ]
  },
  {
   "cell_type": "code",
   "execution_count": 63,
   "id": "92589e9f",
   "metadata": {},
   "outputs": [],
   "source": [
    "scoring_variation_math = Students_data.groupby('test preparation course')['math score'].mean()\n",
    "scoring_variation_reading = Students_data.groupby('test preparation course')['reading score'].mean()\n",
    "scoring_variation_writing = Students_data.groupby('test preparation course')['writing score'].mean()"
   ]
  },
  {
   "cell_type": "code",
   "execution_count": 64,
   "id": "8397f4c9",
   "metadata": {},
   "outputs": [
    {
     "name": "stdout",
     "output_type": "stream",
     "text": [
      "Score variation for Maths against  test preparation course\n",
      "completed    69.96648\n",
      "none         63.78972\n",
      "Name: math score, dtype: float64\n"
     ]
    }
   ],
   "source": [
    "print (\"Score variation for Maths against \", scoring_variation_math)"
   ]
  },
  {
   "cell_type": "code",
   "execution_count": 66,
   "id": "1e6b59f3",
   "metadata": {},
   "outputs": [
    {
     "name": "stdout",
     "output_type": "stream",
     "text": [
      "Score variation for Reading against  test preparation course\n",
      "completed    74.175978\n",
      "none         66.417445\n",
      "Name: reading score, dtype: float64\n"
     ]
    }
   ],
   "source": [
    "print (\"Score variation for Reading against \", scoring_variation_reading)"
   ]
  },
  {
   "cell_type": "code",
   "execution_count": 67,
   "id": "6ef88e54",
   "metadata": {},
   "outputs": [
    {
     "name": "stdout",
     "output_type": "stream",
     "text": [
      "Score variation for Writing against  test preparation course\n",
      "completed    74.684358\n",
      "none         64.457944\n",
      "Name: writing score, dtype: float64\n"
     ]
    }
   ],
   "source": [
    "print (\"Score variation for Writing against \", scoring_variation_writing)"
   ]
  },
  {
   "cell_type": "markdown",
   "id": "4f80e931",
   "metadata": {},
   "source": [
    "### c. Who scores the most on average for math, reading and writing based on"
   ]
  },
  {
   "cell_type": "markdown",
   "id": "d0f49cd2",
   "metadata": {},
   "source": [
    "### i. Gender"
   ]
  },
  {
   "cell_type": "code",
   "execution_count": 7,
   "id": "14bce873",
   "metadata": {},
   "outputs": [
    {
     "name": "stdout",
     "output_type": "stream",
     "text": [
      "Average scores achieved by gender: \n",
      "        math score  reading score  writing score\n",
      "gender                                          \n",
      "female   63.376448      72.590734      72.467181\n",
      "male     68.821577      65.545643      63.446058\n"
     ]
    }
   ],
   "source": [
    "sub_columns = ['math score','reading score','writing score']\n",
    "\n",
    "avg_gen_scores = Students_data.groupby('gender')[sub_columns].mean()\n",
    "\n",
    "print(\"Average scores achieved by gender: \")\n",
    "print(avg_gen_scores)"
   ]
  },
  {
   "cell_type": "markdown",
   "id": "2b730356",
   "metadata": {},
   "source": [
    "### ii. Test preparation course"
   ]
  },
  {
   "cell_type": "code",
   "execution_count": 8,
   "id": "4565dea4",
   "metadata": {},
   "outputs": [
    {
     "name": "stdout",
     "output_type": "stream",
     "text": [
      "Average score by Test preparation:\n",
      "                         math score  reading score  writing score\n",
      "test preparation course                                          \n",
      "completed                  69.96648      74.175978      74.684358\n",
      "none                       63.78972      66.417445      64.457944\n"
     ]
    }
   ],
   "source": [
    "avg_test_prep_score = Students_data.groupby('test preparation course')[sub_columns].mean()\n",
    "\n",
    "print(\"Average score by Test preparation:\")\n",
    "print(avg_test_prep_score)"
   ]
  },
  {
   "cell_type": "markdown",
   "id": "43230d77",
   "metadata": {},
   "source": [
    "### e. Bonus points for top 25% students"
   ]
  },
  {
   "cell_type": "code",
   "execution_count": 12,
   "id": "86723685",
   "metadata": {},
   "outputs": [
    {
     "name": "stdout",
     "output_type": "stream",
     "text": [
      "Students eligible for bonus points (i.e,top 25% in math score): \n",
      "\n",
      "     gender race/ethnicity parental level of education         lunch  \\\n",
      "430  female        group A                some college      standard   \n",
      "431  female        group B           bachelor's degree  free/reduced   \n",
      "432  female        group D           bachelor's degree      standard   \n",
      "433  female        group D                 high school      standard   \n",
      "434  female        group D           bachelor's degree  free/reduced   \n",
      "..      ...            ...                         ...           ...   \n",
      "995    male        group E                some college      standard   \n",
      "996    male        group A                some college      standard   \n",
      "997    male        group D                some college      standard   \n",
      "998    male        group E          associate's degree  free/reduced   \n",
      "999    male        group E           bachelor's degree      standard   \n",
      "\n",
      "    test preparation course  math score  reading score  writing score  \\\n",
      "430               completed          78             87             91   \n",
      "431                    none          78             79             76   \n",
      "432                    none          78             82             79   \n",
      "433                    none          78             81             80   \n",
      "434                    none          78             90             93   \n",
      "..                      ...         ...            ...            ...   \n",
      "995               completed          99             87             81   \n",
      "996               completed         100             96             86   \n",
      "997               completed         100             97             99   \n",
      "998               completed         100            100             93   \n",
      "999               completed         100            100            100   \n",
      "\n",
      "     bonus_points  \n",
      "430            10  \n",
      "431            10  \n",
      "432            10  \n",
      "433            10  \n",
      "434            10  \n",
      "..            ...  \n",
      "995            10  \n",
      "996            10  \n",
      "997            10  \n",
      "998            10  \n",
      "999            10  \n",
      "\n",
      "[231 rows x 9 columns]\n"
     ]
    }
   ],
   "source": [
    "top25 = Students_data['math score'].quantile(0.75)\n",
    "top25_students = Students_data[Students_data['math score'] > top25]\n",
    "\n",
    "bonus_points = 10\n",
    "\n",
    "top25_students = top25_students.copy()\n",
    "top25_students.loc[:, 'bonus_points'] = bonus_points\n",
    "\n",
    "print(\"Students eligible for bonus points (i.e,top 25% in math score): \\n\")\n",
    "print(top25_students)"
   ]
  },
  {
   "cell_type": "markdown",
   "id": "600e76b4",
   "metadata": {},
   "source": [
    "### Case Study on Testing of Hypothesis"
   ]
  },
  {
   "cell_type": "code",
   "execution_count": 15,
   "id": "39c61f3d",
   "metadata": {},
   "outputs": [],
   "source": [
    "sales_data = pd.read_csv(r\"C:\\Minhaz Local files\\DSA\\DSA 02 2024\\Sales_add.csv\")"
   ]
  },
  {
   "cell_type": "markdown",
   "id": "a0429db9",
   "metadata": {},
   "source": [
    "### 1. A company started to invest in digital marketing as a new way of their product promotions. For that they collected data and decided to carry out a study on it."
   ]
  },
  {
   "cell_type": "markdown",
   "id": "c2099072",
   "metadata": {},
   "source": [
    "#### a. The company wishes to clarify whether there is any increase in sales after stepping into digital marketing."
   ]
  },
  {
   "cell_type": "code",
   "execution_count": 16,
   "id": "abeb12b9",
   "metadata": {},
   "outputs": [
    {
     "data": {
      "text/html": [
       "<div>\n",
       "<style scoped>\n",
       "    .dataframe tbody tr th:only-of-type {\n",
       "        vertical-align: middle;\n",
       "    }\n",
       "\n",
       "    .dataframe tbody tr th {\n",
       "        vertical-align: top;\n",
       "    }\n",
       "\n",
       "    .dataframe thead th {\n",
       "        text-align: right;\n",
       "    }\n",
       "</style>\n",
       "<table border=\"1\" class=\"dataframe\">\n",
       "  <thead>\n",
       "    <tr style=\"text-align: right;\">\n",
       "      <th></th>\n",
       "      <th>Month</th>\n",
       "      <th>Region</th>\n",
       "      <th>Manager</th>\n",
       "      <th>Sales_before_digital_add(in $)</th>\n",
       "      <th>Sales_After_digital_add(in $)</th>\n",
       "    </tr>\n",
       "  </thead>\n",
       "  <tbody>\n",
       "    <tr>\n",
       "      <th>0</th>\n",
       "      <td>Month-1</td>\n",
       "      <td>Region - A</td>\n",
       "      <td>Manager - A</td>\n",
       "      <td>132921</td>\n",
       "      <td>270390</td>\n",
       "    </tr>\n",
       "    <tr>\n",
       "      <th>1</th>\n",
       "      <td>Month-2</td>\n",
       "      <td>Region - A</td>\n",
       "      <td>Manager - C</td>\n",
       "      <td>149559</td>\n",
       "      <td>223334</td>\n",
       "    </tr>\n",
       "    <tr>\n",
       "      <th>2</th>\n",
       "      <td>Month-3</td>\n",
       "      <td>Region - B</td>\n",
       "      <td>Manager - A</td>\n",
       "      <td>146278</td>\n",
       "      <td>244243</td>\n",
       "    </tr>\n",
       "    <tr>\n",
       "      <th>3</th>\n",
       "      <td>Month-4</td>\n",
       "      <td>Region - B</td>\n",
       "      <td>Manager - B</td>\n",
       "      <td>152167</td>\n",
       "      <td>231808</td>\n",
       "    </tr>\n",
       "    <tr>\n",
       "      <th>4</th>\n",
       "      <td>Month-5</td>\n",
       "      <td>Region - C</td>\n",
       "      <td>Manager - B</td>\n",
       "      <td>159525</td>\n",
       "      <td>258402</td>\n",
       "    </tr>\n",
       "  </tbody>\n",
       "</table>\n",
       "</div>"
      ],
      "text/plain": [
       "     Month      Region      Manager  Sales_before_digital_add(in $)  \\\n",
       "0  Month-1  Region - A  Manager - A                          132921   \n",
       "1  Month-2  Region - A  Manager - C                          149559   \n",
       "2  Month-3  Region - B  Manager - A                          146278   \n",
       "3  Month-4  Region - B  Manager - B                          152167   \n",
       "4  Month-5  Region - C  Manager - B                          159525   \n",
       "\n",
       "   Sales_After_digital_add(in $)  \n",
       "0                         270390  \n",
       "1                         223334  \n",
       "2                         244243  \n",
       "3                         231808  \n",
       "4                         258402  "
      ]
     },
     "execution_count": 16,
     "metadata": {},
     "output_type": "execute_result"
    }
   ],
   "source": [
    "sales_data.head()"
   ]
  },
  {
   "cell_type": "code",
   "execution_count": 37,
   "id": "78f1aef2",
   "metadata": {},
   "outputs": [
    {
     "name": "stdout",
     "output_type": "stream",
     "text": [
      "Paired t-test results:-\n",
      "t-statistic =  -12.09070525287017\n",
      "p-value =  6.336667004575778e-11\n",
      "Reject the null hypothesis. There is a significant increase in sales after implementing digital marketing.\n"
     ]
    }
   ],
   "source": [
    "sales_before = sales_data['Sales_before_digital_add(in $)']\n",
    "sales_after = sales_data['Sales_After_digital_add(in $)']\n",
    "\n",
    "t_statistic , p_value = ttest_rel(sales_before,sales_after)\n",
    "\n",
    "print(\"Paired t-test results:-\")\n",
    "print(\"t-statistic = \", t_statistic)\n",
    "print(\"p-value = \",p_value)\n",
    "\n",
    "if p_value < 0.05:\n",
    "    print(\"Reject the null hypothesis. There is a significant increase in sales after implementing digital marketing.\")\n",
    "else:\n",
    "    print(\"Fail to reject the null hypothesis. There is no significant increase in sales after implementing digital marketing.\")"
   ]
  },
  {
   "cell_type": "markdown",
   "id": "5bdc8536",
   "metadata": {},
   "source": [
    "#### b. The company needs to check whether there is any dependency between the features “Region” and “Manager”."
   ]
  },
  {
   "cell_type": "code",
   "execution_count": 36,
   "id": "69f15a6a",
   "metadata": {},
   "outputs": [
    {
     "name": "stdout",
     "output_type": "stream",
     "text": [
      "Chi-square test results:-\n",
      "Chi-square statistic = 3.050566893424036\n",
      "p-value :  0.5493991051158094\n",
      "Fail to reject the null hypothesis. There is no dependency between Region and Manager.\n"
     ]
    }
   ],
   "source": [
    "table_cont = pd.crosstab(sales_data['Region'],sales_data['Manager'])\n",
    "\n",
    "chi2_stat , p_value, dof , expected = chi2_contingency(table_cont)\n",
    "\n",
    "print(\"Chi-square test results:-\")\n",
    "print(\"Chi-square statistic =\", chi2_stat)\n",
    "print(\"p-value : \", p_value)\n",
    "\n",
    "if p_value < 0.05:\n",
    "    print(\"Reject the null hypothesis. There is a dependency between Region and Manager.\")\n",
    "else:\n",
    "    print(\"Fail to reject the null hypothesis. There is no dependency between Region and Manager.\")"
   ]
  },
  {
   "cell_type": "code",
   "execution_count": null,
   "id": "78d46d57",
   "metadata": {},
   "outputs": [],
   "source": []
  }
 ],
 "metadata": {
  "kernelspec": {
   "display_name": "Python 3 (ipykernel)",
   "language": "python",
   "name": "python3"
  },
  "language_info": {
   "codemirror_mode": {
    "name": "ipython",
    "version": 3
   },
   "file_extension": ".py",
   "mimetype": "text/x-python",
   "name": "python",
   "nbconvert_exporter": "python",
   "pygments_lexer": "ipython3",
   "version": "3.11.4"
  }
 },
 "nbformat": 4,
 "nbformat_minor": 5
}
