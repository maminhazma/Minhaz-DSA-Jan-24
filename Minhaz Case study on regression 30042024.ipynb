{
 "cells": [
  {
   "cell_type": "code",
   "execution_count": 1,
   "id": "dafe5a63",
   "metadata": {},
   "outputs": [],
   "source": [
    "# Minhaz \n",
    "# Case study on Regression\n",
    "# 30-04-2024"
   ]
  },
  {
   "cell_type": "code",
   "execution_count": 3,
   "id": "3cbfb8d4",
   "metadata": {},
   "outputs": [],
   "source": [
    "import pandas as pd\n",
    "import numpy as np\n",
    "from sklearn.model_selection import train_test_split\n",
    "from sklearn.linear_model import LinearRegression, Lasso\n",
    "from sklearn.metrics import mean_squared_error"
   ]
  },
  {
   "cell_type": "code",
   "execution_count": 25,
   "id": "92160af3",
   "metadata": {},
   "outputs": [],
   "source": [
    "# Loading data file\n",
    "car_data = pd.read_csv(r\"C:\\Users\\mamin\\Downloads\\car_age_price.csv\")"
   ]
  },
  {
   "cell_type": "code",
   "execution_count": 26,
   "id": "f39ce477",
   "metadata": {},
   "outputs": [
    {
     "data": {
      "text/html": [
       "<div>\n",
       "<style scoped>\n",
       "    .dataframe tbody tr th:only-of-type {\n",
       "        vertical-align: middle;\n",
       "    }\n",
       "\n",
       "    .dataframe tbody tr th {\n",
       "        vertical-align: top;\n",
       "    }\n",
       "\n",
       "    .dataframe thead th {\n",
       "        text-align: right;\n",
       "    }\n",
       "</style>\n",
       "<table border=\"1\" class=\"dataframe\">\n",
       "  <thead>\n",
       "    <tr style=\"text-align: right;\">\n",
       "      <th></th>\n",
       "      <th>Year</th>\n",
       "      <th>Price</th>\n",
       "    </tr>\n",
       "  </thead>\n",
       "  <tbody>\n",
       "    <tr>\n",
       "      <th>0</th>\n",
       "      <td>2018</td>\n",
       "      <td>465000</td>\n",
       "    </tr>\n",
       "    <tr>\n",
       "      <th>1</th>\n",
       "      <td>2019</td>\n",
       "      <td>755000</td>\n",
       "    </tr>\n",
       "    <tr>\n",
       "      <th>2</th>\n",
       "      <td>2019</td>\n",
       "      <td>700000</td>\n",
       "    </tr>\n",
       "    <tr>\n",
       "      <th>3</th>\n",
       "      <td>2018</td>\n",
       "      <td>465000</td>\n",
       "    </tr>\n",
       "    <tr>\n",
       "      <th>4</th>\n",
       "      <td>2018</td>\n",
       "      <td>465000</td>\n",
       "    </tr>\n",
       "    <tr>\n",
       "      <th>...</th>\n",
       "      <td>...</td>\n",
       "      <td>...</td>\n",
       "    </tr>\n",
       "    <tr>\n",
       "      <th>107</th>\n",
       "      <td>2016</td>\n",
       "      <td>375000</td>\n",
       "    </tr>\n",
       "    <tr>\n",
       "      <th>108</th>\n",
       "      <td>2014</td>\n",
       "      <td>300000</td>\n",
       "    </tr>\n",
       "    <tr>\n",
       "      <th>109</th>\n",
       "      <td>2015</td>\n",
       "      <td>425000</td>\n",
       "    </tr>\n",
       "    <tr>\n",
       "      <th>110</th>\n",
       "      <td>2016</td>\n",
       "      <td>420000</td>\n",
       "    </tr>\n",
       "    <tr>\n",
       "      <th>111</th>\n",
       "      <td>2015</td>\n",
       "      <td>425000</td>\n",
       "    </tr>\n",
       "  </tbody>\n",
       "</table>\n",
       "<p>112 rows × 2 columns</p>\n",
       "</div>"
      ],
      "text/plain": [
       "     Year   Price\n",
       "0    2018  465000\n",
       "1    2019  755000\n",
       "2    2019  700000\n",
       "3    2018  465000\n",
       "4    2018  465000\n",
       "..    ...     ...\n",
       "107  2016  375000\n",
       "108  2014  300000\n",
       "109  2015  425000\n",
       "110  2016  420000\n",
       "111  2015  425000\n",
       "\n",
       "[112 rows x 2 columns]"
      ]
     },
     "execution_count": 26,
     "metadata": {},
     "output_type": "execute_result"
    }
   ],
   "source": [
    "car_data"
   ]
  },
  {
   "cell_type": "code",
   "execution_count": 48,
   "id": "31fcbb1b",
   "metadata": {},
   "outputs": [],
   "source": [
    "# Splitting the data into features and target variable\n",
    "X = car_data['Year'].values.reshape(-1, 1)\n",
    "y = car_data['Price'].values"
   ]
  },
  {
   "cell_type": "code",
   "execution_count": 50,
   "id": "16c338fb",
   "metadata": {},
   "outputs": [],
   "source": [
    "# Splitting the data into train and test sets\n",
    "X_train, X_test, y_train, y_test = train_test_split(X, y, test_size=0.2, random_state=42)\n",
    "#print(X_train.shape, y_train.shape, X_test.shape, y_test.shape)"
   ]
  },
  {
   "cell_type": "code",
   "execution_count": 41,
   "id": "069a56ab",
   "metadata": {},
   "outputs": [],
   "source": [
    "# Linear Regression\n",
    "linear_reg = LinearRegression()\n",
    "linear_reg.fit(X_train, y_train)\n",
    "linear_pred = linear_reg.predict(X_test)\n",
    "linear_rmse = np.sqrt(mean_squared_error(y_test, linear_pred))"
   ]
  },
  {
   "cell_type": "code",
   "execution_count": 42,
   "id": "c3f01d83",
   "metadata": {},
   "outputs": [],
   "source": [
    "# Lasso Regression\n",
    "lasso_reg = Lasso(alpha=0.5)\n",
    "lasso_reg.fit(X_train, y_train)\n",
    "lasso_pred = lasso_reg.predict(X_test)\n",
    "lasso_rmse = np.sqrt(mean_squared_error(y_test, lasso_pred))"
   ]
  },
  {
   "cell_type": "code",
   "execution_count": 31,
   "id": "cbf9d57f",
   "metadata": {},
   "outputs": [
    {
     "name": "stdout",
     "output_type": "stream",
     "text": [
      "Linear Regression RMSE: 65779.22359552195\n",
      "Lasso Regression RMSE: 65779.04692053981\n"
     ]
    }
   ],
   "source": [
    "print(\"Linear Regression RMSE:\", linear_rmse)\n",
    "print(\"Lasso Regression RMSE:\", lasso_rmse)"
   ]
  },
  {
   "cell_type": "code",
   "execution_count": 32,
   "id": "c7d029c8",
   "metadata": {},
   "outputs": [
    {
     "name": "stdout",
     "output_type": "stream",
     "text": [
      "Predicted price of a 2022 model using Linear Regression: [743601.61594504]\n",
      "Predicted price of a 2022 model using Lasso Regression: [743600.49510825]\n"
     ]
    }
   ],
   "source": [
    "# Predicting the price of a 2022 model\n",
    "predicted_price_linear = linear_reg.predict([[2022]])\n",
    "predicted_price_lasso = lasso_reg.predict([[2022]])\n",
    "\n",
    "print(\"Predicted price of a 2022 model using Linear Regression:\", predicted_price_linear)\n",
    "print(\"Predicted price of a 2022 model using Lasso Regression:\", predicted_price_lasso)"
   ]
  },
  {
   "cell_type": "code",
   "execution_count": null,
   "id": "9dcd7808",
   "metadata": {},
   "outputs": [],
   "source": []
  }
 ],
 "metadata": {
  "kernelspec": {
   "display_name": "Python 3 (ipykernel)",
   "language": "python",
   "name": "python3"
  },
  "language_info": {
   "codemirror_mode": {
    "name": "ipython",
    "version": 3
   },
   "file_extension": ".py",
   "mimetype": "text/x-python",
   "name": "python",
   "nbconvert_exporter": "python",
   "pygments_lexer": "ipython3",
   "version": "3.11.4"
  }
 },
 "nbformat": 4,
 "nbformat_minor": 5
}
