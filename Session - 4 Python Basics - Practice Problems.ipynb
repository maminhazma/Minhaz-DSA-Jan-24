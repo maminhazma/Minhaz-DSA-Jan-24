{
 "cells": [
  {
   "cell_type": "code",
   "execution_count": 1,
   "id": "71c1d530",
   "metadata": {},
   "outputs": [],
   "source": [
    "## Session - 4\n",
    "## Python Basics Practice problems"
   ]
  },
  {
   "cell_type": "code",
   "execution_count": 7,
   "id": "4a5db16f",
   "metadata": {},
   "outputs": [
    {
     "name": "stdout",
     "output_type": "stream",
     "text": [
      "Enter the radius:3\n",
      "Area of the Circle:  28.26\n"
     ]
    }
   ],
   "source": [
    "## Q-01\n",
    "## write a program to accept circle of radius and calculate area\n",
    "radius = int(input(\"Enter the radius:\"))\n",
    "area = 3.14 * (radius*radius)\n",
    "print (\"Area of the Circle: \", area)"
   ]
  },
  {
   "cell_type": "code",
   "execution_count": 12,
   "id": "3fcea941",
   "metadata": {},
   "outputs": [
    {
     "name": "stdout",
     "output_type": "stream",
     "text": [
      "Enter the radius:5\n",
      "Area of the Circle:  78.5\n"
     ]
    },
    {
     "data": {
      "text/plain": [
       "int"
      ]
     },
     "execution_count": 12,
     "metadata": {},
     "output_type": "execute_result"
    }
   ],
   "source": [
    "radius = int(input(\"Enter the radius:\"))\n",
    "area = 3.14 * (radius*radius)\n",
    "print (\"Area of the Circle: \", area)\n",
    "type (radius)"
   ]
  },
  {
   "cell_type": "code",
   "execution_count": 14,
   "id": "cf5631d3",
   "metadata": {},
   "outputs": [],
   "source": [
    "## Q-02 Write a Python Program to accept the details of a student like name, roll, number and mark and display it."
   ]
  },
  {
   "cell_type": "code",
   "execution_count": 5,
   "id": "caf34a84",
   "metadata": {},
   "outputs": [
    {
     "name": "stdout",
     "output_type": "stream",
     "text": [
      "Enter the Student Name: Minhaz\n",
      "Enter the Roll number: 001\n",
      "Enter the Mark: 75\n",
      "Name:  Minhaz\n",
      "Roll Number:  001\n",
      "Mark is:  75\n"
     ]
    }
   ],
   "source": [
    "Name = input (\"Enter the Student Name: \")\n",
    "Roll_number = input(\"Enter the Roll number: \")\n",
    "Mark = input(\"Enter the Mark: \")\n",
    "print(\"Name: \", Name)\n",
    "print(\"Roll Number: \", Roll_number)\n",
    "print(\"Mark is: \", Mark)"
   ]
  },
  {
   "cell_type": "code",
   "execution_count": 6,
   "id": "f63a8c79",
   "metadata": {},
   "outputs": [],
   "source": [
    "## Q-03 Find the largest number from the list"
   ]
  },
  {
   "cell_type": "code",
   "execution_count": 11,
   "id": "8411e427",
   "metadata": {},
   "outputs": [
    {
     "name": "stdout",
     "output_type": "stream",
     "text": [
      "Largest number in the list is =  47\n"
     ]
    }
   ],
   "source": [
    "number_list = [12,3,47,7]\n",
    "largest_number=max(number_list)\n",
    "print(\"Largest number in the list is = \", largest_number)"
   ]
  },
  {
   "cell_type": "code",
   "execution_count": 12,
   "id": "23d17879",
   "metadata": {},
   "outputs": [],
   "source": [
    "## Q-04"
   ]
  },
  {
   "cell_type": "code",
   "execution_count": 13,
   "id": "020c80e9",
   "metadata": {},
   "outputs": [],
   "source": [
    "## Q-05 Write a Python program to print only those numbers which are divisible of 5."
   ]
  },
  {
   "cell_type": "code",
   "execution_count": 33,
   "id": "46ae5f6e",
   "metadata": {},
   "outputs": [
    {
     "name": "stdout",
     "output_type": "stream",
     "text": [
      "5\n",
      "15\n",
      "30\n"
     ]
    }
   ],
   "source": [
    "list_of_numbers = [3,5,7,15,30,32]\n",
    "for num in list_of_numbers:\n",
    "    ##print (\"Number divisible by 5 are:\")\n",
    "    if num%5==0:\n",
    "        print (num)"
   ]
  },
  {
   "cell_type": "code",
   "execution_count": 34,
   "id": "4e0d4deb",
   "metadata": {},
   "outputs": [],
   "source": [
    "## Q-06 Check the number is prime or not"
   ]
  },
  {
   "cell_type": "code",
   "execution_count": 60,
   "id": "4cb263d0",
   "metadata": {},
   "outputs": [
    {
     "name": "stdout",
     "output_type": "stream",
     "text": [
      "Enter the number: 6\n",
      "Number 6 is not Prime number\n"
     ]
    }
   ],
   "source": [
    "number = int(input(\"Enter the number: \"))\n",
    "if number%2!=0:\n",
    "    print (\"Number\", number, \"is prime\")\n",
    "elif number < 3:\n",
    "    print (\"Number\", number, \"is Prime number\")\n",
    "else:\n",
    "    print (\"Number\", number, \"is not Prime number\")"
   ]
  },
  {
   "cell_type": "code",
   "execution_count": 61,
   "id": "14b73c25",
   "metadata": {},
   "outputs": [],
   "source": [
    "## Q-07 to reverse a list of number"
   ]
  },
  {
   "cell_type": "code",
   "execution_count": 70,
   "id": "1fa6f46e",
   "metadata": {},
   "outputs": [
    {
     "name": "stdout",
     "output_type": "stream",
     "text": [
      "[8, 7, 6, 5]\n"
     ]
    }
   ],
   "source": [
    "list = [5,6,7,8]\n",
    "print (list[::-1])"
   ]
  },
  {
   "cell_type": "code",
   "execution_count": 77,
   "id": "b754f1dc",
   "metadata": {},
   "outputs": [
    {
     "name": "stdout",
     "output_type": "stream",
     "text": [
      "8\n",
      "7\n",
      "6\n",
      "5\n"
     ]
    }
   ],
   "source": [
    "list = [5,6,7,8]\n",
    "for item in list[::-1]:\n",
    "    print (item)"
   ]
  },
  {
   "cell_type": "code",
   "execution_count": 78,
   "id": "18f42e68",
   "metadata": {},
   "outputs": [],
   "source": [
    "## Q-08 print a pattern"
   ]
  },
  {
   "cell_type": "code",
   "execution_count": 19,
   "id": "79ee8a3d",
   "metadata": {},
   "outputs": [
    {
     "name": "stdout",
     "output_type": "stream",
     "text": [
      "*\n",
      "**\n",
      "***\n",
      "****\n",
      "*****\n",
      "******\n",
      "*******\n"
     ]
    }
   ],
   "source": [
    "rows = 7\n",
    "## rows = int(input(\"Enter number of rows: \"))\n",
    "for i in range(1, rows + 1):\n",
    "    print(\"*\" * i)"
   ]
  },
  {
   "cell_type": "code",
   "execution_count": 1,
   "id": "f147bbf3",
   "metadata": {},
   "outputs": [],
   "source": [
    "## Q - 09 "
   ]
  },
  {
   "cell_type": "code",
   "execution_count": 8,
   "id": "a5452db7",
   "metadata": {},
   "outputs": [],
   "source": [
    "## Q-10 print patter two way"
   ]
  },
  {
   "cell_type": "code",
   "execution_count": 2,
   "id": "cc6fb78d",
   "metadata": {},
   "outputs": [
    {
     "name": "stdout",
     "output_type": "stream",
     "text": [
      "Enter how many line:6\n",
      "*\n",
      "**\n",
      "***\n",
      "****\n",
      "*****\n",
      "******\n",
      "*****\n",
      "****\n",
      "***\n",
      "**\n",
      "*\n"
     ]
    }
   ],
   "source": [
    "rows = int(input(\"Enter how many line:\"))\n",
    "\n",
    "for i in range(1, rows + 1):\n",
    "    print(\"*\" * i)\n",
    "for i in range(rows - 1, 0, -1):\n",
    "    print(\"*\" * i)"
   ]
  },
  {
   "cell_type": "code",
   "execution_count": null,
   "id": "d1212870",
   "metadata": {},
   "outputs": [],
   "source": []
  }
 ],
 "metadata": {
  "kernelspec": {
   "display_name": "Python 3 (ipykernel)",
   "language": "python",
   "name": "python3"
  },
  "language_info": {
   "codemirror_mode": {
    "name": "ipython",
    "version": 3
   },
   "file_extension": ".py",
   "mimetype": "text/x-python",
   "name": "python",
   "nbconvert_exporter": "python",
   "pygments_lexer": "ipython3",
   "version": "3.11.4"
  }
 },
 "nbformat": 4,
 "nbformat_minor": 5
}
