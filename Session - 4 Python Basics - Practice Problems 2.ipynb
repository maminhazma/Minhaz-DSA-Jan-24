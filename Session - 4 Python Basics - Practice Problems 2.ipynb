{
 "cells": [
  {
   "cell_type": "code",
   "execution_count": 1,
   "id": "2b1b8e95",
   "metadata": {},
   "outputs": [],
   "source": [
    "## Python practice problems - 2"
   ]
  },
  {
   "cell_type": "code",
   "execution_count": 2,
   "id": "bb6d0eba",
   "metadata": {},
   "outputs": [],
   "source": [
    "##Q1 - count the charectors in a string and display"
   ]
  },
  {
   "cell_type": "code",
   "execution_count": 5,
   "id": "99ecfee4",
   "metadata": {},
   "outputs": [
    {
     "name": "stdout",
     "output_type": "stream",
     "text": [
      "Enter a string value: minhazma\n",
      "Sample output: m=2, i=1, n=1, h=1, a=2, z=1, "
     ]
    }
   ],
   "source": [
    "def count_characters(input_string):\n",
    "    char_count = {}\n",
    "    for char in input_string:\n",
    "        if char in char_count:\n",
    "            char_count[char] += 1\n",
    "        else:\n",
    "            char_count[char] = 1\n",
    "    for char, count in char_count.items():\n",
    "        print(f\"{char}={count}\", end=\", \")\n",
    "input_string = input(\"Enter a string value: \")\n",
    "print(\"Sample output:\", end=\" \")\n",
    "count_characters(input_string)"
   ]
  },
  {
   "cell_type": "code",
   "execution_count": 7,
   "id": "78ab1a82",
   "metadata": {},
   "outputs": [],
   "source": [
    "##Q2 - find the maximum number"
   ]
  },
  {
   "cell_type": "code",
   "execution_count": 6,
   "id": "d9c2fea4",
   "metadata": {},
   "outputs": [
    {
     "name": "stdout",
     "output_type": "stream",
     "text": [
      "Sample output: 40\n"
     ]
    }
   ],
   "source": [
    "def find_maximum(num1, num2, num3):\n",
    "    max_number = max(num1, num2, num3)\n",
    "    return max_number\n",
    "num1, num2, num3 = 3, 20, 40\n",
    "print(\"Sample output:\", find_maximum(num1, num2, num3))"
   ]
  },
  {
   "cell_type": "code",
   "execution_count": null,
   "id": "29e481b4",
   "metadata": {},
   "outputs": [],
   "source": [
    "##Q3 - "
   ]
  }
 ],
 "metadata": {
  "kernelspec": {
   "display_name": "Python 3 (ipykernel)",
   "language": "python",
   "name": "python3"
  },
  "language_info": {
   "codemirror_mode": {
    "name": "ipython",
    "version": 3
   },
   "file_extension": ".py",
   "mimetype": "text/x-python",
   "name": "python",
   "nbconvert_exporter": "python",
   "pygments_lexer": "ipython3",
   "version": "3.11.4"
  }
 },
 "nbformat": 4,
 "nbformat_minor": 5
}
